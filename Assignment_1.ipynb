{
  "cells": [
    {
      "cell_type": "markdown",
      "metadata": {
        "id": "view-in-github",
        "colab_type": "text"
      },
      "source": [
        "<a href=\"https://colab.research.google.com/github/Divyaraja7/Assignment-1/blob/main/Assignment_1.ipynb\" target=\"_parent\"><img src=\"https://colab.research.google.com/assets/colab-badge.svg\" alt=\"Open In Colab\"/></a>"
      ]
    },
    {
      "cell_type": "code",
      "execution_count": null,
      "metadata": {
        "colab": {
          "base_uri": "https://localhost:8080/"
        },
        "id": "MoQ8VMl0dQWk",
        "outputId": "d7444da1-c1df-49c1-a6e2-26136d85a3f3"
      },
      "outputs": [
        {
          "metadata": {
            "tags": null
          },
          "name": "stdout",
          "output_type": "stream",
          "text": [
            "Select operation.\n",
            "1.Add\n",
            "2.Subtract\n",
            "3.Multiply\n",
            "4.Divide\n",
            "5.square_root\n",
            "6.square\n",
            "7.fraction\n"
          ]
        }
      ],
      "source": [
        "import math\n",
        "def add(x, y):\n",
        "    return x + y\n",
        "\n",
        "def subtract(x, y):\n",
        "    return x - y\n",
        "\n",
        "def multiply(x, y):\n",
        "    return x * y\n",
        "\n",
        "def divide(x, y):\n",
        "    return x / y\n",
        "\n",
        "def square_root(x):\n",
        "    return math.sqrt(x)\n",
        "\n",
        "def square(x):\n",
        "    return x*x\n",
        "\n",
        "def fraction(x):\n",
        "    return 1/x\n",
        "\n",
        "print(\"Select operation.\")\n",
        "print(\"1.Add\")\n",
        "print(\"2.Subtract\")\n",
        "print(\"3.Multiply\")\n",
        "print(\"4.Divide\")\n",
        "print(\"5.square_root\")\n",
        "print(\"6.square\")\n",
        "print(\"7.fraction\")\n",
        "while True:\n",
        "    choice = input(\"Enter choice(1/2/3/4/5/6/7): \")\n",
        "\n",
        "    if choice in ('1', '2', '3', '4','5','6','7'):\n",
        "        if choice == '1':\n",
        "            num1 = float(input(\"Enter first number: \"))\n",
        "            num2 = float(input(\"Enter second number: \"))\n",
        "            print(add(num1, num2))\n",
        "\n",
        "        elif choice == '2':\n",
        "            num1 = float(input(\"Enter first number: \"))\n",
        "            num2 = float(input(\"Enter second number: \"))\n",
        "            print(subtract(num1, num2))\n",
        "\n",
        "        elif choice == '3':\n",
        "            num1 = float(input(\"Enter first number: \"))\n",
        "            num2 = float(input(\"Enter second number: \"))\n",
        "            print(multiply(num1, num2))\n",
        "\n",
        "        elif choice == '4':\n",
        "            num1 = float(input(\"Enter first number: \"))\n",
        "            num2 = float(input(\"Enter second number: \"))\n",
        "            print( divide(num1, num2))\n",
        "\n",
        "        elif choice == '5':\n",
        "            num1 = float(input(\"Enter first number: \"))\n",
        "            print(square_root(num1))\n",
        "        elif choice == '6':\n",
        "            num1 = float(input(\"Enter first number: \"))\n",
        "            print(square(num1))\n",
        "        elif choice == '7':\n",
        "            num1 = float(input(\"Enter first number: \"))\n",
        "            print(fraction(num1))\n",
        "\n",
        "        next_calculation = input(\"Let's do next calculation? (yes/no): \")\n",
        "        \n",
        "        if next_calculation == \"no\":\n",
        "          break\n",
        "    \n",
        "    else:\n",
        "        print(\"Invalid Input\")\n"
      ]
    }
  ],
  "metadata": {
    "colab": {
      "name": "Assignment 1.ipynb",
      "provenance": [],
      "collapsed_sections": [],
      "authorship_tag": "ABX9TyMkORFjnhqegCSlnY8Zjcrn",
      "include_colab_link": true
    },
    "kernelspec": {
      "display_name": "Python 3",
      "name": "python3"
    },
    "language_info": {
      "name": "python"
    }
  },
  "nbformat": 4,
  "nbformat_minor": 0
}